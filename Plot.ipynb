{
 "cells": [
  {
   "cell_type": "code",
   "execution_count": 28,
   "metadata": {},
   "outputs": [],
   "source": [
    "from sklearn.preprocessing import StandardScaler\n",
    "from sklearn.metrics import mean_squared_error\n",
    "from pandas import read_csv, DataFrame\n",
    "from matplotlib import pyplot"
   ]
  },
  {
   "cell_type": "markdown",
   "metadata": {},
   "source": [
    "## Config Vars"
   ]
  },
  {
   "cell_type": "code",
   "execution_count": 2,
   "metadata": {},
   "outputs": [],
   "source": [
    "conf_test_dataset_path = 'data/test_dataset.csv'\n",
    "shift_predictions_path = 'data/shift_predictions'\n",
    "model_type = 'lstm'\n",
    "conf_dataset_columns_to_drop = [\"@timestamp\"]\n",
    "shifts = 5"
   ]
  },
  {
   "cell_type": "markdown",
   "metadata": {},
   "source": [
    "## Load Dataset"
   ]
  },
  {
   "cell_type": "code",
   "execution_count": 3,
   "metadata": {},
   "outputs": [],
   "source": [
    "train_dataset = read_csv(conf_test_dataset_path , header=0, index_col=0)\n",
    "train_dataset.drop(conf_dataset_columns_to_drop, axis=1, inplace=True)\n",
    "train_dataset[train_dataset.columns] = StandardScaler().fit_transform(train_dataset)\n",
    "train_dataset_no_anotation = train_dataset.drop(\"anomaly\", axis=1)"
   ]
  },
  {
   "cell_type": "code",
   "execution_count": 4,
   "metadata": {
    "scrolled": true
   },
   "outputs": [],
   "source": [
    "train_dataset = read_csv(conf_test_dataset_path , header=0, index_col=0)"
   ]
  },
  {
   "cell_type": "markdown",
   "metadata": {},
   "source": [
    "## Load Predctions"
   ]
  },
  {
   "cell_type": "code",
   "execution_count": 5,
   "metadata": {},
   "outputs": [],
   "source": [
    "shift_predictions = []\n",
    "for shift in range(1, shifts+1):\n",
    "    dset = read_csv(shift_predictions_path + '/predicted_data_' + model_type + '_model_' + str(shift) + '.csv' , header=0, index_col=0)\n",
    "    shift_predictions.append(dset)"
   ]
  },
  {
   "cell_type": "code",
   "execution_count": 24,
   "metadata": {
    "scrolled": true
   },
   "outputs": [],
   "source": [
    "pred = shift_predictions[0]['system.diskio_sda.iostat.await']\n",
    "true = train_dataset['system.diskio_sda.iostat.await'].shift(-1)"
   ]
  },
  {
   "cell_type": "code",
   "execution_count": 31,
   "metadata": {},
   "outputs": [],
   "source": [
    "xmarks=[i for i in range(40000,50000+1,100)]"
   ]
  },
  {
   "cell_type": "code",
   "execution_count": 32,
   "metadata": {},
   "outputs": [
    {
     "data": {
      "image/png": "[encoded data removed]",
      "text/plain": [
       "<matplotlib.figure.Figure at 0x7f80003dae48>"
      ]
     },
     "metadata": {},
     "output_type": "display_data"
    }
   ],
   "source": [
    "pyplot.figure()\n",
    "pyplot.plot(pred, label='Prediction')\n",
    "pyplot.plot(true, label='True')\n",
    "pyplot.legend()\n",
    "pyplot.title(\"Plot\")\n",
    "pyplot.show()"
   ]
  },
  {
   "cell_type": "code",
   "execution_count": null,
   "metadata": {},
   "outputs": [],
   "source": []
  }
 ],
 "metadata": {
  "kernelspec": {
   "display_name": "Python 3",
   "language": "python",
   "name": "python3"
  },
  "language_info": {
   "codemirror_mode": {
    "name": "ipython",
    "version": 3
   },
   "file_extension": ".py",
   "mimetype": "text/x-python",
   "name": "python",
   "nbconvert_exporter": "python",
   "pygments_lexer": "ipython3",
   "version": "3.6.4"
  }
 },
 "nbformat": 4,
 "nbformat_minor": 2
}
