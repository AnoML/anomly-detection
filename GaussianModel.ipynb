{
 "cells": [
  {
   "cell_type": "code",
   "execution_count": 79,
   "metadata": {},
   "outputs": [],
   "source": [
    "from scipy.stats import multivariate_normal\n",
    "from pandas import read_csv, DataFrame\n",
    "from matplotlib import pyplot"
   ]
  },
  {
   "cell_type": "markdown",
   "metadata": {},
   "source": [
    "## Config Vars"
   ]
  },
  {
   "cell_type": "code",
   "execution_count": 80,
   "metadata": {},
   "outputs": [],
   "source": [
    "conf_error_vects_path = 'data/error_vects.csv'\n",
    "shifts = 5"
   ]
  },
  {
   "cell_type": "markdown",
   "metadata": {},
   "source": [
    "## Load Dataset"
   ]
  },
  {
   "cell_type": "code",
   "execution_count": 81,
   "metadata": {},
   "outputs": [],
   "source": [
    "error_vects_full = read_csv(conf_error_vects_path , header=0, index_col=0)"
   ]
  },
  {
   "cell_type": "markdown",
   "metadata": {},
   "source": [
    "## Seperate data"
   ]
  },
  {
   "cell_type": "code",
   "execution_count": 83,
   "metadata": {},
   "outputs": [],
   "source": [
    "train = error_vects_full.shape[0] * 1 // 2\n",
    "    \n",
    "error_vects = error_vects_full.iloc[:-train]\n",
    "\n",
    "error_vects_test = error_vects_full.iloc[-train:]"
   ]
  },
  {
   "cell_type": "code",
   "execution_count": 84,
   "metadata": {
    "scrolled": true
   },
   "outputs": [
    {
     "data": {
      "text/html": [
       "<div>\n",
       "<style scoped>\n",
       "    .dataframe tbody tr th:only-of-type {\n",
       "        vertical-align: middle;\n",
       "    }\n",
       "\n",
       "    .dataframe tbody tr th {\n",
       "        vertical-align: top;\n",
       "    }\n",
       "\n",
       "    .dataframe thead th {\n",
       "        text-align: right;\n",
       "    }\n",
       "</style>\n",
       "<table border=\"1\" class=\"dataframe\">\n",
       "  <thead>\n",
       "    <tr style=\"text-align: right;\">\n",
       "      <th></th>\n",
       "      <th>1</th>\n",
       "      <th>2</th>\n",
       "      <th>3</th>\n",
       "      <th>4</th>\n",
       "      <th>5</th>\n",
       "      <th>anomaly</th>\n",
       "    </tr>\n",
       "  </thead>\n",
       "  <tbody>\n",
       "    <tr>\n",
       "      <th>40000</th>\n",
       "      <td>0.136215</td>\n",
       "      <td>0.083541</td>\n",
       "      <td>0.145496</td>\n",
       "      <td>0.085183</td>\n",
       "      <td>0.081741</td>\n",
       "      <td>0</td>\n",
       "    </tr>\n",
       "    <tr>\n",
       "      <th>40001</th>\n",
       "      <td>0.141272</td>\n",
       "      <td>0.090417</td>\n",
       "      <td>0.165775</td>\n",
       "      <td>0.078157</td>\n",
       "      <td>0.088608</td>\n",
       "      <td>0</td>\n",
       "    </tr>\n",
       "    <tr>\n",
       "      <th>40002</th>\n",
       "      <td>0.144212</td>\n",
       "      <td>0.077972</td>\n",
       "      <td>0.135333</td>\n",
       "      <td>0.078648</td>\n",
       "      <td>0.075410</td>\n",
       "      <td>0</td>\n",
       "    </tr>\n",
       "    <tr>\n",
       "      <th>40003</th>\n",
       "      <td>0.145004</td>\n",
       "      <td>0.084679</td>\n",
       "      <td>0.148652</td>\n",
       "      <td>0.074598</td>\n",
       "      <td>0.080191</td>\n",
       "      <td>0</td>\n",
       "    </tr>\n",
       "    <tr>\n",
       "      <th>40004</th>\n",
       "      <td>0.160781</td>\n",
       "      <td>0.095830</td>\n",
       "      <td>0.167924</td>\n",
       "      <td>0.080759</td>\n",
       "      <td>0.092752</td>\n",
       "      <td>0</td>\n",
       "    </tr>\n",
       "  </tbody>\n",
       "</table>\n",
       "</div>"
      ],
      "text/plain": [
       "              1         2         3         4         5  anomaly\n",
       "40000  0.136215  0.083541  0.145496  0.085183  0.081741        0\n",
       "40001  0.141272  0.090417  0.165775  0.078157  0.088608        0\n",
       "40002  0.144212  0.077972  0.135333  0.078648  0.075410        0\n",
       "40003  0.145004  0.084679  0.148652  0.074598  0.080191        0\n",
       "40004  0.160781  0.095830  0.167924  0.080759  0.092752        0"
      ]
     },
     "execution_count": 84,
     "metadata": {},
     "output_type": "execute_result"
    }
   ],
   "source": [
    "error_vects.head()"
   ]
  },
  {
   "cell_type": "markdown",
   "metadata": {},
   "source": [
    "## Calculate Means and covariance matrix of error vects"
   ]
  },
  {
   "cell_type": "code",
   "execution_count": 85,
   "metadata": {
    "scrolled": true
   },
   "outputs": [],
   "source": [
    "means = error_vects[error_vects.columns[:-1]].mean()\n",
    "covariance = error_vects[error_vects.columns[:-1]].cov()"
   ]
  },
  {
   "cell_type": "markdown",
   "metadata": {},
   "source": [
    "## Creating the Model"
   ]
  },
  {
   "cell_type": "code",
   "execution_count": 86,
   "metadata": {
    "scrolled": true
   },
   "outputs": [],
   "source": [
    "g_model = multivariate_normal(mean=means, cov=covariance)"
   ]
  },
  {
   "cell_type": "code",
   "execution_count": 87,
   "metadata": {},
   "outputs": [],
   "source": [
    "error_val = DataFrame(columns = ['error'])\n",
    "for row in range(error_vects_test.shape[0]):\n",
    "    val = g_model.pdf(error_vects_test[error_vects_test.columns[:-1]].iloc[row])\n",
    "    error_val.loc[row] = val\n",
    "error_val.index = error_vects_test.index\n",
    "error_val[[\"anomaly\"]] = error_vects_test[[\"anomaly\"]]"
   ]
  },
  {
   "cell_type": "code",
   "execution_count": 88,
   "metadata": {
    "scrolled": true
   },
   "outputs": [],
   "source": [
    "error_val_anomaly = error_val[error_val.anomaly == 1]\n",
    "error_val_non_anomaly = error_val[error_val.anomaly == 0]"
   ]
  },
  {
   "cell_type": "code",
   "execution_count": 90,
   "metadata": {},
   "outputs": [
    {
     "data": {
      "image/png": "[encoded data removed]",
      "text/plain": [
       "<matplotlib.figure.Figure at 0x7f443846f048>"
      ]
     },
     "metadata": {},
     "output_type": "display_data"
    }
   ],
   "source": [
    "pyplot.figure()\n",
    "pyplot.plot(error_val_anomaly['error'], label='Anomaly')\n",
    "pyplot.plot(error_val_non_anomaly['error'], label='Non Anomaly')\n",
    "pyplot.legend()\n",
    "pyplot.title(\"Anomaly\")\n",
    "pyplot.show()"
   ]
  },
  {
   "cell_type": "code",
   "execution_count": null,
   "metadata": {},
   "outputs": [],
   "source": []
  }
 ],
 "metadata": {
  "kernelspec": {
   "display_name": "Python 3",
   "language": "python",
   "name": "python3"
  },
  "language_info": {
   "codemirror_mode": {
    "name": "ipython",
    "version": 3
   },
   "file_extension": ".py",
   "mimetype": "text/x-python",
   "name": "python",
   "nbconvert_exporter": "python",
   "pygments_lexer": "ipython3",
   "version": "3.6.4"
  }
 },
 "nbformat": 4,
 "nbformat_minor": 2
}
